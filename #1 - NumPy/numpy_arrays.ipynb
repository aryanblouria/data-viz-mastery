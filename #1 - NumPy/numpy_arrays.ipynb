{
  "nbformat": 4,
  "nbformat_minor": 0,
  "metadata": {
    "colab": {
      "name": "numpy_arrays.ipynb",
      "provenance": [],
      "collapsed_sections": []
    },
    "kernelspec": {
      "name": "python3",
      "display_name": "Python 3"
    },
    "language_info": {
      "name": "python"
    }
  },
  "cells": [
    {
      "cell_type": "markdown",
      "metadata": {
        "id": "XRmao4BqzbOF"
      },
      "source": [
        "# NumPy Arrays"
      ]
    },
    {
      "cell_type": "code",
      "metadata": {
        "id": "oLe1VgUvzeyU"
      },
      "source": [
        "import numpy as np"
      ],
      "execution_count": 1,
      "outputs": []
    },
    {
      "cell_type": "code",
      "metadata": {
        "id": "htRNDIxJzipf"
      },
      "source": [
        "my_list = [1, 2, 3]"
      ],
      "execution_count": 2,
      "outputs": []
    },
    {
      "cell_type": "code",
      "metadata": {
        "id": "6dKOuRw8zkXS"
      },
      "source": [
        "arr = np.array(my_list)"
      ],
      "execution_count": 3,
      "outputs": []
    },
    {
      "cell_type": "code",
      "metadata": {
        "colab": {
          "base_uri": "https://localhost:8080/"
        },
        "id": "Gj1zDfENzrHJ",
        "outputId": "7e7bd534-6810-483c-81e3-a941cbe73319"
      },
      "source": [
        "arr"
      ],
      "execution_count": 4,
      "outputs": [
        {
          "output_type": "execute_result",
          "data": {
            "text/plain": [
              "array([1, 2, 3])"
            ]
          },
          "metadata": {
            "tags": []
          },
          "execution_count": 4
        }
      ]
    },
    {
      "cell_type": "code",
      "metadata": {
        "id": "CcroSDYwzs0t"
      },
      "source": [
        "my_mat = [[1,2,3],[4,5,6],[7,8,9]]"
      ],
      "execution_count": 5,
      "outputs": []
    },
    {
      "cell_type": "code",
      "metadata": {
        "id": "f4DtDWEuz1jY"
      },
      "source": [
        "mat = np.array(my_mat)"
      ],
      "execution_count": 6,
      "outputs": []
    },
    {
      "cell_type": "code",
      "metadata": {
        "colab": {
          "base_uri": "https://localhost:8080/"
        },
        "id": "nUNkXYBVz4oY",
        "outputId": "62360fca-d538-42e3-effa-a1e3d4bdbf15"
      },
      "source": [
        "mat"
      ],
      "execution_count": 7,
      "outputs": [
        {
          "output_type": "execute_result",
          "data": {
            "text/plain": [
              "array([[1, 2, 3],\n",
              "       [4, 5, 6],\n",
              "       [7, 8, 9]])"
            ]
          },
          "metadata": {
            "tags": []
          },
          "execution_count": 7
        }
      ]
    },
    {
      "cell_type": "code",
      "metadata": {
        "colab": {
          "base_uri": "https://localhost:8080/"
        },
        "id": "dBHRyfBnz9IV",
        "outputId": "731a8593-ccbd-447c-ca49-61fd6d2b3e86"
      },
      "source": [
        "np.arange(0, 11, 2)"
      ],
      "execution_count": 8,
      "outputs": [
        {
          "output_type": "execute_result",
          "data": {
            "text/plain": [
              "array([ 0,  2,  4,  6,  8, 10])"
            ]
          },
          "metadata": {
            "tags": []
          },
          "execution_count": 8
        }
      ]
    },
    {
      "cell_type": "code",
      "metadata": {
        "colab": {
          "base_uri": "https://localhost:8080/"
        },
        "id": "JkRUg-ko0yCV",
        "outputId": "169d2736-d6f6-4c9c-ac0e-703873b8cd36"
      },
      "source": [
        "np.zeros(3)"
      ],
      "execution_count": 9,
      "outputs": [
        {
          "output_type": "execute_result",
          "data": {
            "text/plain": [
              "array([0., 0., 0.])"
            ]
          },
          "metadata": {
            "tags": []
          },
          "execution_count": 9
        }
      ]
    },
    {
      "cell_type": "code",
      "metadata": {
        "colab": {
          "base_uri": "https://localhost:8080/"
        },
        "id": "PMTMDr5M05hc",
        "outputId": "4ef42858-20d5-41ff-e632-b4b3d32414dc"
      },
      "source": [
        "np.zeros((2,3))"
      ],
      "execution_count": 10,
      "outputs": [
        {
          "output_type": "execute_result",
          "data": {
            "text/plain": [
              "array([[0., 0., 0.],\n",
              "       [0., 0., 0.]])"
            ]
          },
          "metadata": {
            "tags": []
          },
          "execution_count": 10
        }
      ]
    },
    {
      "cell_type": "code",
      "metadata": {
        "colab": {
          "base_uri": "https://localhost:8080/"
        },
        "id": "vATvJT4-0-w8",
        "outputId": "418f7c45-327c-4f70-c8bd-6d82dc20f601"
      },
      "source": [
        "np.ones(4)"
      ],
      "execution_count": 11,
      "outputs": [
        {
          "output_type": "execute_result",
          "data": {
            "text/plain": [
              "array([1., 1., 1., 1.])"
            ]
          },
          "metadata": {
            "tags": []
          },
          "execution_count": 11
        }
      ]
    },
    {
      "cell_type": "code",
      "metadata": {
        "colab": {
          "base_uri": "https://localhost:8080/"
        },
        "id": "1peU-rrT1AhA",
        "outputId": "1d67de1d-4332-4cf9-dfb1-5c8813555d12"
      },
      "source": [
        "np.ones((3,4))"
      ],
      "execution_count": 12,
      "outputs": [
        {
          "output_type": "execute_result",
          "data": {
            "text/plain": [
              "array([[1., 1., 1., 1.],\n",
              "       [1., 1., 1., 1.],\n",
              "       [1., 1., 1., 1.]])"
            ]
          },
          "metadata": {
            "tags": []
          },
          "execution_count": 12
        }
      ]
    },
    {
      "cell_type": "code",
      "metadata": {
        "colab": {
          "base_uri": "https://localhost:8080/"
        },
        "id": "unv1eVYL1EpX",
        "outputId": "e7e18249-c085-4e9b-ac33-589738abe18a"
      },
      "source": [
        "np.linspace(0, 5, 11)"
      ],
      "execution_count": 13,
      "outputs": [
        {
          "output_type": "execute_result",
          "data": {
            "text/plain": [
              "array([0. , 0.5, 1. , 1.5, 2. , 2.5, 3. , 3.5, 4. , 4.5, 5. ])"
            ]
          },
          "metadata": {
            "tags": []
          },
          "execution_count": 13
        }
      ]
    },
    {
      "cell_type": "code",
      "metadata": {
        "colab": {
          "base_uri": "https://localhost:8080/"
        },
        "id": "gSDTtgq91iM-",
        "outputId": "422b004b-8008-4d9f-dc02-bdb43cc83abb"
      },
      "source": [
        "np.eye(4)"
      ],
      "execution_count": 14,
      "outputs": [
        {
          "output_type": "execute_result",
          "data": {
            "text/plain": [
              "array([[1., 0., 0., 0.],\n",
              "       [0., 1., 0., 0.],\n",
              "       [0., 0., 1., 0.],\n",
              "       [0., 0., 0., 1.]])"
            ]
          },
          "metadata": {
            "tags": []
          },
          "execution_count": 14
        }
      ]
    },
    {
      "cell_type": "code",
      "metadata": {
        "colab": {
          "base_uri": "https://localhost:8080/"
        },
        "id": "I7L8_XLh12U4",
        "outputId": "665f9f48-88b2-4f24-bd88-f01e9ba01db4"
      },
      "source": [
        "np.random.rand(5)"
      ],
      "execution_count": 15,
      "outputs": [
        {
          "output_type": "execute_result",
          "data": {
            "text/plain": [
              "array([0.30294549, 0.37255048, 0.72072048, 0.00495968, 0.33432538])"
            ]
          },
          "metadata": {
            "tags": []
          },
          "execution_count": 15
        }
      ]
    },
    {
      "cell_type": "code",
      "metadata": {
        "colab": {
          "base_uri": "https://localhost:8080/"
        },
        "id": "tJaWXiOC14RG",
        "outputId": "a65a9fc3-48fe-47db-8b2a-9e3f290d4e32"
      },
      "source": [
        "np.random.rand(5, 5)"
      ],
      "execution_count": 16,
      "outputs": [
        {
          "output_type": "execute_result",
          "data": {
            "text/plain": [
              "array([[0.49576221, 0.91080435, 0.89707129, 0.09252259, 0.38999028],\n",
              "       [0.8995918 , 0.92372436, 0.15947263, 0.57325731, 0.43994968],\n",
              "       [0.69258531, 0.91256493, 0.65375284, 0.99021953, 0.03112966],\n",
              "       [0.25113558, 0.57538301, 0.34859267, 0.57187513, 0.63947323],\n",
              "       [0.09294844, 0.49719623, 0.83311102, 0.7594366 , 0.09626086]])"
            ]
          },
          "metadata": {
            "tags": []
          },
          "execution_count": 16
        }
      ]
    },
    {
      "cell_type": "code",
      "metadata": {
        "colab": {
          "base_uri": "https://localhost:8080/"
        },
        "id": "VBsqN_XS1-MM",
        "outputId": "17dd95ef-fa5d-4ae9-8995-843f5c5b4aea"
      },
      "source": [
        "np.random.randn(2)"
      ],
      "execution_count": 17,
      "outputs": [
        {
          "output_type": "execute_result",
          "data": {
            "text/plain": [
              "array([0.23572321, 1.16005712])"
            ]
          },
          "metadata": {
            "tags": []
          },
          "execution_count": 17
        }
      ]
    },
    {
      "cell_type": "code",
      "metadata": {
        "colab": {
          "base_uri": "https://localhost:8080/"
        },
        "id": "vIcGhn5X2En-",
        "outputId": "c7b78f13-8f83-43d6-c0be-d24b9a18b9f0"
      },
      "source": [
        "np.random.randn(2, 2)"
      ],
      "execution_count": 18,
      "outputs": [
        {
          "output_type": "execute_result",
          "data": {
            "text/plain": [
              "array([[ 0.07290107, -0.17371671],\n",
              "       [ 1.41925915,  0.59406996]])"
            ]
          },
          "metadata": {
            "tags": []
          },
          "execution_count": 18
        }
      ]
    },
    {
      "cell_type": "code",
      "metadata": {
        "colab": {
          "base_uri": "https://localhost:8080/"
        },
        "id": "yeyPy-uH2LiJ",
        "outputId": "440ee891-5c2f-4ed8-8b38-62b9b129dc2d"
      },
      "source": [
        "np.random.randint(0, 100)"
      ],
      "execution_count": 19,
      "outputs": [
        {
          "output_type": "execute_result",
          "data": {
            "text/plain": [
              "20"
            ]
          },
          "metadata": {
            "tags": []
          },
          "execution_count": 19
        }
      ]
    },
    {
      "cell_type": "code",
      "metadata": {
        "colab": {
          "base_uri": "https://localhost:8080/"
        },
        "id": "Axqg9EPW2VHm",
        "outputId": "09dff894-2a67-40a1-ca58-d1fb23ba7a2f"
      },
      "source": [
        "np.random.randint(0, 100, 10)"
      ],
      "execution_count": 20,
      "outputs": [
        {
          "output_type": "execute_result",
          "data": {
            "text/plain": [
              "array([15, 92, 87,  1, 61, 80, 91,  6, 85, 91])"
            ]
          },
          "metadata": {
            "tags": []
          },
          "execution_count": 20
        }
      ]
    },
    {
      "cell_type": "code",
      "metadata": {
        "colab": {
          "base_uri": "https://localhost:8080/"
        },
        "id": "536aNrfS2ZXA",
        "outputId": "c82837e0-8c03-4dd0-dd79-a2c7751ae85b"
      },
      "source": [
        "np.random.randint(0, 100, (10, 10))"
      ],
      "execution_count": 21,
      "outputs": [
        {
          "output_type": "execute_result",
          "data": {
            "text/plain": [
              "array([[92, 86, 39, 20, 61,  5, 29, 54, 79, 96],\n",
              "       [32,  5, 57, 21, 86,  3, 29, 56, 15, 73],\n",
              "       [57, 72, 10,  0, 51, 96, 12, 78, 96,  7],\n",
              "       [29, 52, 93, 59, 36,  1, 63,  8, 70, 79],\n",
              "       [21, 31, 35, 96, 26, 39, 63, 92, 50, 58],\n",
              "       [ 0, 17, 81, 56,  1, 49, 81, 28, 14, 95],\n",
              "       [52, 63, 62, 26,  6, 26, 41, 22, 88, 31],\n",
              "       [27, 16, 16, 45, 93, 20, 36, 45, 83, 54],\n",
              "       [16, 62, 57, 17, 78, 35,  1, 63, 81, 79],\n",
              "       [59,  7, 36, 89,  4, 33, 33, 60, 12,  0]])"
            ]
          },
          "metadata": {
            "tags": []
          },
          "execution_count": 21
        }
      ]
    },
    {
      "cell_type": "code",
      "metadata": {
        "id": "80GpbCNb2hT1"
      },
      "source": [
        "arr = np.arange(25)"
      ],
      "execution_count": 22,
      "outputs": []
    },
    {
      "cell_type": "code",
      "metadata": {
        "colab": {
          "base_uri": "https://localhost:8080/"
        },
        "id": "OlFDXKFm2qgl",
        "outputId": "ff9cf368-ebf8-44a8-a326-4e6f6b69a391"
      },
      "source": [
        "arr"
      ],
      "execution_count": 23,
      "outputs": [
        {
          "output_type": "execute_result",
          "data": {
            "text/plain": [
              "array([ 0,  1,  2,  3,  4,  5,  6,  7,  8,  9, 10, 11, 12, 13, 14, 15, 16,\n",
              "       17, 18, 19, 20, 21, 22, 23, 24])"
            ]
          },
          "metadata": {
            "tags": []
          },
          "execution_count": 23
        }
      ]
    },
    {
      "cell_type": "code",
      "metadata": {
        "colab": {
          "base_uri": "https://localhost:8080/"
        },
        "id": "bIYINFux2rml",
        "outputId": "dc1edcc3-397d-4210-c50e-74270e14054e"
      },
      "source": [
        "arr.reshape(5,5)"
      ],
      "execution_count": 24,
      "outputs": [
        {
          "output_type": "execute_result",
          "data": {
            "text/plain": [
              "array([[ 0,  1,  2,  3,  4],\n",
              "       [ 5,  6,  7,  8,  9],\n",
              "       [10, 11, 12, 13, 14],\n",
              "       [15, 16, 17, 18, 19],\n",
              "       [20, 21, 22, 23, 24]])"
            ]
          },
          "metadata": {
            "tags": []
          },
          "execution_count": 24
        }
      ]
    },
    {
      "cell_type": "code",
      "metadata": {
        "colab": {
          "base_uri": "https://localhost:8080/"
        },
        "id": "u15r1CSh290Z",
        "outputId": "687cce46-1ede-469d-8f39-73b16b9b5952"
      },
      "source": [
        "arr.max()"
      ],
      "execution_count": 25,
      "outputs": [
        {
          "output_type": "execute_result",
          "data": {
            "text/plain": [
              "24"
            ]
          },
          "metadata": {
            "tags": []
          },
          "execution_count": 25
        }
      ]
    },
    {
      "cell_type": "code",
      "metadata": {
        "colab": {
          "base_uri": "https://localhost:8080/"
        },
        "id": "CErx0S3k3B3Q",
        "outputId": "74d2f6df-3aea-47de-9705-8d8d4e40963e"
      },
      "source": [
        "arr.min()"
      ],
      "execution_count": 26,
      "outputs": [
        {
          "output_type": "execute_result",
          "data": {
            "text/plain": [
              "0"
            ]
          },
          "metadata": {
            "tags": []
          },
          "execution_count": 26
        }
      ]
    },
    {
      "cell_type": "code",
      "metadata": {
        "colab": {
          "base_uri": "https://localhost:8080/"
        },
        "id": "0BsbrVDg3EfT",
        "outputId": "557596c5-4aa5-403c-adce-d569000e8f4e"
      },
      "source": [
        "arr.argmax()"
      ],
      "execution_count": 27,
      "outputs": [
        {
          "output_type": "execute_result",
          "data": {
            "text/plain": [
              "24"
            ]
          },
          "metadata": {
            "tags": []
          },
          "execution_count": 27
        }
      ]
    },
    {
      "cell_type": "code",
      "metadata": {
        "colab": {
          "base_uri": "https://localhost:8080/"
        },
        "id": "VEMMuM9n3GrS",
        "outputId": "594d06a5-aa81-44aa-cdcd-597ee80b28eb"
      },
      "source": [
        "arr.argmin()"
      ],
      "execution_count": 28,
      "outputs": [
        {
          "output_type": "execute_result",
          "data": {
            "text/plain": [
              "0"
            ]
          },
          "metadata": {
            "tags": []
          },
          "execution_count": 28
        }
      ]
    },
    {
      "cell_type": "code",
      "metadata": {
        "colab": {
          "base_uri": "https://localhost:8080/"
        },
        "id": "YX1F-dFb3UZ5",
        "outputId": "2858d50c-9997-4b12-d86c-a469d88de2c1"
      },
      "source": [
        "arr.shape"
      ],
      "execution_count": 32,
      "outputs": [
        {
          "output_type": "execute_result",
          "data": {
            "text/plain": [
              "(25,)"
            ]
          },
          "metadata": {
            "tags": []
          },
          "execution_count": 32
        }
      ]
    },
    {
      "cell_type": "code",
      "metadata": {
        "colab": {
          "base_uri": "https://localhost:8080/"
        },
        "id": "wdmpbwbQ3KM6",
        "outputId": "1d8af5cf-0254-4a87-8584-64362aec3184"
      },
      "source": [
        "arr.reshape(5, 5).shape"
      ],
      "execution_count": 31,
      "outputs": [
        {
          "output_type": "execute_result",
          "data": {
            "text/plain": [
              "(5, 5)"
            ]
          },
          "metadata": {
            "tags": []
          },
          "execution_count": 31
        }
      ]
    },
    {
      "cell_type": "code",
      "metadata": {
        "colab": {
          "base_uri": "https://localhost:8080/"
        },
        "id": "IUn3Lg_e3WcE",
        "outputId": "d578f930-065b-4f67-87d1-b16bdbfe846a"
      },
      "source": [
        "arr.dtype"
      ],
      "execution_count": 33,
      "outputs": [
        {
          "output_type": "execute_result",
          "data": {
            "text/plain": [
              "dtype('int64')"
            ]
          },
          "metadata": {
            "tags": []
          },
          "execution_count": 33
        }
      ]
    }
  ]
}